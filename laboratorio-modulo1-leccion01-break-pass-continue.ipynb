{
 "cells": [
  {
   "cell_type": "markdown",
   "metadata": {},
   "source": [
    "\n",
    "<div style=\"text-align: center;\">\n",
    "  <img src=\"https://github.com/Hack-io-Data/Imagenes/blob/main/01-LogosHackio/logo_celeste@4x.png?raw=true\" alt=\"esquema\" />\n",
    "</div>\n"
   ]
  },
  {
   "cell_type": "markdown",
   "metadata": {},
   "source": [
    "# Laboratorio de Python: break(), pass(), continue()"
   ]
  },
  {
   "cell_type": "markdown",
   "metadata": {},
   "source": [
    "## Ejercicio 1: Validación de datos numéricos. \n",
    "\n",
    "Escribe un bucle que lea una lista de números y detenga la ejecución si encuentra un valor negativo. Muestra un mensaje indicando el número negativo encontrado.\n"
   ]
  },
  {
   "cell_type": "code",
   "execution_count": 6,
   "metadata": {},
   "outputs": [
    {
     "name": "stdout",
     "output_type": "stream",
     "text": [
      "5\n",
      "10\n",
      "15\n"
     ]
    }
   ],
   "source": [
    "def validar(lista):\n",
    "    for i in lista:\n",
    "        if i > 0:\n",
    "            print(i)\n",
    "        else:\n",
    "            break\n",
    "\n",
    "validar([5,10,15,-2,20])"
   ]
  },
  {
   "cell_type": "markdown",
   "metadata": {},
   "source": [
    "\n",
    "## Ejercicio 2: Filtrado de datos\n",
    "\n",
    "Escribe un bucle que imprima los números de una lista, pero que omita los números pares.\n"
   ]
  },
  {
   "cell_type": "code",
   "execution_count": 2,
   "metadata": {},
   "outputs": [
    {
     "name": "stdout",
     "output_type": "stream",
     "text": [
      "15\n",
      "21\n"
     ]
    }
   ],
   "source": [
    "def filtro(lista):\n",
    "    for i in lista:\n",
    "        if i % 2 != 0:\n",
    "            print(i)\n",
    "        else:\n",
    "            pass\n",
    "\n",
    "filtro([2,10,15,-2,21,4])"
   ]
  },
  {
   "cell_type": "markdown",
   "metadata": {},
   "source": [
    "## Ejercicio 3: Búsqueda de un valor\n",
    "\n",
    "Escribe un programa que busque un valor específico en una lista y detenga la búsqueda cuando lo encuentre. Si se encuentra, muestra un mensaje.\n"
   ]
  },
  {
   "cell_type": "code",
   "execution_count": 15,
   "metadata": {},
   "outputs": [
    {
     "name": "stdout",
     "output_type": "stream",
     "text": [
      "10\n",
      "15\n",
      "-2\n"
     ]
    }
   ],
   "source": [
    "def buscar(lista):\n",
    "    for i in lista:\n",
    "        if i == 2:\n",
    "            break\n",
    "        else:\n",
    "            print(i)\n",
    "\n",
    "buscar([10,15,-2,2,21,4])"
   ]
  },
  {
   "cell_type": "markdown",
   "metadata": {},
   "source": [
    "## Ejercicio 4: Estructura de código incompleto\n",
    "\n",
    "Define una función que aún no tenga lógica implementada, pero que se pueda ejecutar sin errores utilizando `pass`."
   ]
  },
  {
   "cell_type": "code",
   "execution_count": 16,
   "metadata": {},
   "outputs": [
    {
     "name": "stdout",
     "output_type": "stream",
     "text": [
      "Los nombres de los clientes de la compañia son: ['Aurelio', 'Agüeda', 'Lola', 'Cami123', 'Lolo', '1723', 'Antonio', 'Aura', 'Asunción']\n",
      "El nombre 1723 no es correcto ya que contiene un dígito🚨\n"
     ]
    }
   ],
   "source": [
    "nombres_clientes = ['Aurelio', 'Agüeda', 'Lola', 'Cami123','Lolo', \"1723\", \"Antonio\", \"Aura\", \"Asunción\"]\n",
    "\n",
    "print(\"Los nombres de los clientes de la compañia son:\", nombres_clientes)\n",
    "\n",
    "for nombre in nombres_clientes:\n",
    "        if nombre.isdigit():\n",
    "            print(f\"El nombre {nombre} no es correcto ya que contiene un dígito🚨\")\n",
    "        elif nombre.isalnum:\n",
    "               pass\n",
    "        else:\n",
    "                print(f\"El nombre {nombre} es correcto 😄\")"
   ]
  },
  {
   "cell_type": "markdown",
   "metadata": {},
   "source": [
    "## Ejercicio 5: Validación condicional\n",
    "\n",
    "Escribe un bucle que verifique una lista de nombres. Si encuentra un nombre vacío (cadena vacía), salta esa iteración y continúa con los demás nombres.\n"
   ]
  },
  {
   "cell_type": "code",
   "execution_count": 24,
   "metadata": {},
   "outputs": [
    {
     "name": "stdout",
     "output_type": "stream",
     "text": [
      "Carlos\n",
      "Luis\n",
      "Carmen\n",
      "\n",
      "Ana\n"
     ]
    }
   ],
   "source": [
    "def validacion(lista):\n",
    "    for i in lista:\n",
    "        if i.isalpha:\n",
    "            print(i)\n",
    "        else:\n",
    "            pass\n",
    "\n",
    "validacion(['Carlos', 'Luis', 'Carmen','', 'Ana'])"
   ]
  },
  {
   "cell_type": "markdown",
   "metadata": {},
   "source": [
    "## Ejercicio 6: Búsqueda de claves en un diccionario\n",
    "\n",
    "Escribe un programa que recorra un diccionario y detenga la búsqueda si encuentra una clave específica pasada por el usuario.\n"
   ]
  },
  {
   "cell_type": "code",
   "execution_count": 25,
   "metadata": {},
   "outputs": [
    {
     "name": "stdout",
     "output_type": "stream",
     "text": [
      "Carlos 10\n",
      "Luis 15\n",
      "Carmen 20\n"
     ]
    }
   ],
   "source": [
    "def validacion(diccionario):\n",
    "    for k,v in diccionario:\n",
    "        if k == 'Alberto':\n",
    "            break\n",
    "        else:\n",
    "            print(k,v)\n",
    "\n",
    "validacion([('Carlos', 10), ('Luis', 15), ('Carmen', 20), ('Alberto', 25), ('Ana', 30)])"
   ]
  },
  {
   "cell_type": "markdown",
   "metadata": {},
   "source": [
    "## Ejercicio 7: Bucle con múltiples excepciones\n",
    "\n",
    "Escribe un bucle que procese una lista de operaciones matemáticas, omitiendo las operaciones que intenten dividir por cero.\n"
   ]
  },
  {
   "cell_type": "code",
   "execution_count": 6,
   "metadata": {},
   "outputs": [
    {
     "name": "stdout",
     "output_type": "stream",
     "text": [
      "None\n"
     ]
    }
   ],
   "source": [
    "### pendiente\n",
    "\n",
    "def calculadora(num1, num2, operacion='multiplicacion'):\n",
    "    if operacion == 'suma':\n",
    "        return num1 + num2\n",
    "    elif operacion == 'resta':\n",
    "        return num1 - num2\n",
    "    elif operacion == 'multiplicacion':\n",
    "        return num1 * num2\n",
    "    elif operacion == 'division':\n",
    "        if num2 == 0:\n",
    "            pass \n",
    "        else:\n",
    "            return num1 / num2\n",
    "    else:\n",
    "        return \"Operación no válida\"\n",
    "\n",
    "    \n",
    "# y por último con una división\n",
    "resultado4 = calculadora(2,0,operacion=\"division\")\n",
    "print(resultado4)\n"
   ]
  },
  {
   "cell_type": "markdown",
   "metadata": {},
   "source": [
    "## Ejercicio 8: Búsqueda en una lista anidada\n",
    "\n",
    "Escribe un programa que recorra una lista de listas y detenga la búsqueda cuando encuentre un valor mayor a 50.\n"
   ]
  },
  {
   "cell_type": "code",
   "execution_count": 7,
   "metadata": {},
   "outputs": [
    {
     "name": "stdout",
     "output_type": "stream",
     "text": [
      "5\n",
      "10\n",
      "15\n",
      "20\n",
      "40\n"
     ]
    }
   ],
   "source": [
    "lista_listas = [[5,10,15], [20,40,60],[2,4,6]]\n",
    "\n",
    "for lista in lista_listas:\n",
    "    for i in lista:\n",
    "        if i < 50:\n",
    "            print(i)\n",
    "        else:\n",
    "            break\n",
    "    else:\n",
    "        continue\n",
    "    break"
   ]
  },
  {
   "cell_type": "markdown",
   "metadata": {},
   "source": [
    "## Ejercicio 9: Evaluación de series temporales\n",
    "\n",
    "Escribe un programa que recorra una lista de datos de series temporales y se detenga si encuentra un valor atípico (mayor a 100).\n"
   ]
  },
  {
   "cell_type": "code",
   "execution_count": 8,
   "metadata": {},
   "outputs": [
    {
     "name": "stdout",
     "output_type": "stream",
     "text": [
      "5\n",
      "10\n",
      "15\n",
      "20\n",
      "100\n"
     ]
    }
   ],
   "source": [
    "def datos(lista):\n",
    "    for i in lista:\n",
    "        if i > 100:\n",
    "            break\n",
    "        else:\n",
    "            print(i)\n",
    "\n",
    "datos([5,10,15,20,100,250,25])"
   ]
  },
  {
   "cell_type": "markdown",
   "metadata": {},
   "source": [
    "## Ejercicio 10: Iteración con valores faltantes\n",
    "\n",
    "Crea un bucle que recorra una lista de datos de ventas y salte los valores faltantes representados por `None`."
   ]
  },
  {
   "cell_type": "code",
   "execution_count": 9,
   "metadata": {},
   "outputs": [
    {
     "name": "stdout",
     "output_type": "stream",
     "text": [
      "Carlos\n",
      "Luis\n",
      "Carmen\n",
      "Ana\n"
     ]
    }
   ],
   "source": [
    "def ventas(lista):\n",
    "    for i in lista:\n",
    "        if i == 'None':\n",
    "            pass\n",
    "        else:\n",
    "            print(i)\n",
    "\n",
    "ventas(['Carlos', 'Luis', 'Carmen','None', 'Ana'])"
   ]
  },
  {
   "cell_type": "markdown",
   "metadata": {},
   "source": [
    "## Ejercicio 11: Control de flujo en bucles anidados\n",
    "\n",
    "Escribe un bucle que recorra la matriz dada y se detenga si se encuentra un número negativo, mostrando su posición.\n",
    "\n"
   ]
  },
  {
   "cell_type": "code",
   "execution_count": 10,
   "metadata": {},
   "outputs": [
    {
     "name": "stdout",
     "output_type": "stream",
     "text": [
      "5\n",
      "10\n",
      "15\n",
      "22\n",
      "El lugar del elemento negativo es fila 1 con columna 1\n"
     ]
    }
   ],
   "source": [
    "def negativo(lista):\n",
    "    for i, fila in enumerate(lista):\n",
    "        for j, numero in enumerate(fila):\n",
    "            if numero > 0:\n",
    "                print(numero)\n",
    "            else:\n",
    "                print(f'El lugar del elemento negativo es fila {i} con columna {j}')\n",
    "                break\n",
    "        else:\n",
    "            continue\n",
    "        break\n",
    "\n",
    "negativo([[5,10,15],[22,-5,12]])"
   ]
  },
  {
   "cell_type": "code",
   "execution_count": 11,
   "metadata": {},
   "outputs": [
    {
     "name": "stdout",
     "output_type": "stream",
     "text": [
      "5\n",
      "10\n",
      "15\n",
      "22\n",
      "El lugar del elemento negativo es fila 1 con columna 1\n"
     ]
    }
   ],
   "source": [
    "def negativo(lista):\n",
    "    for i, fila in enumerate(lista):\n",
    "        for j, numero in enumerate(fila):\n",
    "            if numero < 0:\n",
    "                print(f'El lugar del elemento negativo es fila {i} con columna {j}')\n",
    "                return  # Usamos 'return' para salir de ambos bucles\n",
    "            else:\n",
    "                print(numero)\n",
    "\n",
    "negativo([[5,10,15],[22,-5,12]])"
   ]
  },
  {
   "cell_type": "markdown",
   "metadata": {},
   "source": [
    "## Ejercicio 12: Placeholder para funciones incompletas\n",
    "\n",
    "Escribe una función que tenga un bloque de control que aún no esté implementado, utilizando `pass` para que no genere errores."
   ]
  },
  {
   "cell_type": "code",
   "execution_count": 1,
   "metadata": {},
   "outputs": [
    {
     "name": "stdout",
     "output_type": "stream",
     "text": [
      "Los nombres de los clientes de la compañia son: ['Aurelio', 'Agüeda', 'Lola', 'Cami123', 'Lolo', 'Antonio', 'Aura', 'Asunción']\n"
     ]
    }
   ],
   "source": [
    "nombres_clientes = ['Aurelio', 'Agüeda', 'Lola', 'Cami123','Lolo', \"Antonio\", \"Aura\", \"Asunción\"]\n",
    "\n",
    "print(\"Los nombres de los clientes de la compañia son:\", nombres_clientes)\n",
    "\n",
    "for nombre in nombres_clientes:\n",
    "        if nombre.isdigit():\n",
    "            print(f\"El nombre {nombre} no es correcto ya que contiene un dígito🚨\")\n",
    "        elif nombre.isdigit:\n",
    "               pass\n",
    "        else:\n",
    "                print(f\"El nombre {nombre} es correcto 😄\")"
   ]
  },
  {
   "cell_type": "code",
   "execution_count": null,
   "metadata": {},
   "outputs": [],
   "source": []
  }
 ],
 "metadata": {
  "kernelspec": {
   "display_name": "contenido",
   "language": "python",
   "name": "python3"
  },
  "language_info": {
   "codemirror_mode": {
    "name": "ipython",
    "version": 3
   },
   "file_extension": ".py",
   "mimetype": "text/x-python",
   "name": "python",
   "nbconvert_exporter": "python",
   "pygments_lexer": "ipython3",
   "version": "3.11.9"
  }
 },
 "nbformat": 4,
 "nbformat_minor": 2
}
